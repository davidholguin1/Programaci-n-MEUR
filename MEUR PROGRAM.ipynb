{
 "cells": [
  {
   "cell_type": "markdown",
   "metadata": {},
   "source": [
    "## Programación de los sub modelos del Modelo de Estructura Urbana y Regional."
   ]
  },
  {
   "cell_type": "markdown",
   "metadata": {},
   "source": [
    "A continuación, se encuentra la programación de los 3 submodelos del Modelo de estructura urbana y regional: Submodelo de repartición de construcción regional, Submodelo de usos del suelo y submodelo de localización de hogares."
   ]
  },
  {
   "cell_type": "markdown",
   "metadata": {},
   "source": [
    "## Submodelo de repartición de construcción regional."
   ]
  },
  {
   "cell_type": "markdown",
   "metadata": {},
   "source": [
    "El primer modelo a programar es el de repartición de construcción regional, el cual \n",
    "tiene en cuenta tanto la dinámica de construcción previa de cada unidad espacial como las restricciones \n",
    "normativas que delimitan el crecimiento en la región "
   ]
  },
  {
   "cell_type": "markdown",
   "metadata": {},
   "source": [
    "El primer paso a realizar es importar las librerías que permitirán el tratamiento de los datos de entrada y los ejercicios propuestos."
   ]
  },
  {
   "cell_type": "code",
   "execution_count": null,
   "metadata": {},
   "outputs": [],
   "source": [
    "import statsmodels.api as sm\n",
    "from patsy import dmatrices\n",
    "import statsmodels.api as st\n",
    "from patsy import dmatrices\n",
    "import pandas as pd\n",
    "import os\n",
    "import matplotlib.pyplot as plt\n",
    "import numpy as np\n",
    "import re\n",
    "import seaborn as sns\n",
    "import patsy as pt\n",
    "from statsmodels.genmod.generalized_estimating_equations import GEE\n",
    "from sklearn import linear_model\n",
    "from sklearn import model_selection\n",
    "from sklearn import metrics\n",
    "from sklearn.metrics import classification_report\n",
    "from sklearn.metrics import confusion_matrix\n",
    "from sklearn.metrics import accuracy_score\n",
    "from statsmodels.genmod.generalized_estimating_equations import GEE\n",
    "from statsmodels.genmod.cov_struct import (Exchangeable,\n",
    "    Independence,Autoregressive)\n",
    "from statsmodels.genmod.families import Poisson"
   ]
  },
  {
   "cell_type": "markdown",
   "metadata": {},
   "source": [
    "El siguiente paso consiste en copiar la ubicación donde se encuentran los archivos de entrada del modelo, preferiblemente guardar todos los archivos de entrada de los submodelos en la misma carpeta contenedora."
   ]
  },
  {
   "cell_type": "code",
   "execution_count": null,
   "metadata": {},
   "outputs": [],
   "source": [
    "os.chdir(r'C:\\Users\\david\\OneDrive\\Escritorio\\')"
   ]
  },
  {
   "cell_type": "markdown",
   "metadata": {},
   "source": [
    "Después, llamar los archivos de entrada del modelo de repartición de construcción regional."
   ]
  },
  {
   "cell_type": "code",
   "execution_count": null,
   "metadata": {},
   "outputs": [],
   "source": [
    "ipath1 = 'tiempo_modelo.xlsx'\n",
    "ipath2 = 'betas_modelo.xlsx'\n",
    "ipath3 = 'matriz_contiguidad.xlsx'\n",
    "\n",
    "    \n",
    "    \n",
    "llenado = pd.read_excel(ipath1)\n",
    "delta_llenado1 = pd.read_excel(ipath1)\n",
    "llenado1_cr = pd.read_excel(ipath1)\n",
    "llenado_sr = pd.read_excel(ipath1)\n",
    "llenado_cr = pd.read_excel(ipath1)\n",
    "proporcion_cr = pd.read_excel(ipath1)\n",
    "delta_llenado = pd.read_excel(ipath1)\n",
    "proporcion = pd.read_excel(ipath1)\n",
    "llenado1 = pd.read_excel(ipath1)\n",
    "repartidor  = pd.read_excel(ipath1)\n",
    "repartidor1 = pd.read_excel(ipath1)\n",
    "df = pd.read_excel(ipath2)\n",
    "matriz_con = pd.read_excel(ipath3)\n"
   ]
  },
  {
   "cell_type": "markdown",
   "metadata": {},
   "source": [
    "Se generará una matriz tamaño 149x35 que contiene los metros cuadrados proyectados por año para cada unidad espacial, que tiene en cuenta el componente normativo. Si el stock de metros cuadrados proyectados se encuentra por debajo de la restricción se asume que es posible construir en esa unidad espacial en ese año; de lo contrario se asumirá que el stock permanecerá constante y será igual a la restricción normativa."
   ]
  },
  {
   "cell_type": "code",
   "execution_count": null,
   "metadata": {},
   "outputs": [],
   "source": [
    "for x in range(34): \n",
    "    s=2017+x\n",
    "    for i in range(len(llenado)):\n",
    "        if df['b1'][i]/(1+math.exp(-df['b2'][i]*((s)-df['b3'][i]))) < (df['Area maxima adicional'][i]+df['Area 2017'][i]):\n",
    "            llenado[s][i] = df['b1'][i]/(1+math.exp(-df['b2'][i]*((s)-df['b3'][i])))\n",
    "        else:\n",
    "            llenado[s][i] = df['Area maxima adicional'][i]+df['Area 2017'][i]"
   ]
  },
  {
   "cell_type": "markdown",
   "metadata": {},
   "source": [
    "Después se generará una matriz de las mismas dimensiones en la cual si la unidad espacial llego a su área máxima construida permitida para algun **t** se devolverá el valor proyectado menos la restricción, es decir la cantidad de metros cuadrados que se habían proyectado para dicha unidad espacial pero que no se efectuaron por la condición normativa; de lo contrario la función devolverá un 0."
   ]
  },
  {
   "cell_type": "code",
   "execution_count": null,
   "metadata": {},
   "outputs": [],
   "source": [
    "for x in range(34):\n",
    "    s=2017+x\n",
    "    for i in range (len(repartidor)):\n",
    "        if df['Area maxima adicional'][i]+df['Area 2017'][i]-1 < llenado[s][i] <df['Area maxima adicional'][i]+df['Area 2017'][i]+1:\n",
    "            repartidor[s][i] = (df['b1'][i]/(1+math.exp(-df['b2'][i]*((s)-df['b3'][i]))) - df['Area maxima adicional'][i]-df['Area 2017'][i])\n",
    "        else:\n",
    "            repartidor[s][i] = 0"
   ]
  },
  {
   "cell_type": "markdown",
   "metadata": {},
   "source": [
    "Se procede a eliminar y organizar el data frame y a eliminar las columnas que no pertenecen a la estimación, con el fin que al trasponer la matriz quede con las dimensiones requeridas para poder realizar el producto matricial"
   ]
  },
  {
   "cell_type": "code",
   "execution_count": null,
   "metadata": {},
   "outputs": [],
   "source": [
    "repartidor.sort_values(by='CodSimulador')           \n",
    "repartidor = repartidor.set_index('CodSimulador')\n",
    "repartidor = repartidor.drop('Identifica', 1)  \n",
    "matriz_con = matriz_con.set_index('Etiquetas de fila')\n",
    "matriz_con_t=np.transpose(matriz_con)\n",
    "mmult= []"
   ]
  },
  {
   "cell_type": "markdown",
   "metadata": {},
   "source": [
    "Se procede a realizar el producto matricial entre la matriz de contiguidad generada con anterioridad y la matriz transpuesta que reparte los m2 de aquellas unidades espaciales que ya superaron su normativa de construcción, esto genera una matriz que contiene la cantidad de metros cuadrados asignados a las unidades contiguas."
   ]
  },
  {
   "cell_type": "code",
   "execution_count": null,
   "metadata": {},
   "outputs": [],
   "source": [
    "A=np.array(matriz_con_t)\n",
    "B=np.array(repartidor)\n",
    "mmult = np.dot(A,B)\n",
    "asignaciones = pd.DataFrame(mmult)\n",
    "asignaciones.rename(columns={0: 2017, 1: 2018, 2: 2019, 3: 2020, 4: 2021, 5:2022,  6: 2023, 7:2024, 8: 2025,  9:2026,  10:2027,   11:2028,   12:2029, 13:2030,  14:2031,  15:2032,  16:2033,   17:2034,  18:2035,  19:2036,  20:2037,  21:2038,  22:2039,  23:2040,  24:2041,  25:2042,  26:2043,  27:2044,  28:2045,  29:2046,  30:2047, 31:2048,  32:2049, 33:2050}, inplace=True)"
   ]
  },
  {
   "cell_type": "markdown",
   "metadata": {},
   "source": [
    "Se realizar la suma entre la matriz de llenado que se creo al principio y la resultante del producto matricial anteriormente mencionado, esta matriz ocasiona que aquellas unidades espaciales que son contiguas a aquellas que llegaron a su normativa de manera rápida tengan una mayor proyección de construcción ya que reciben dichos m2 de sus contiguas, al igual que en la primera matriz si se cumple que una unidad espacial llego a su máximo normativo no se le asignan más m2"
   ]
  },
  {
   "cell_type": "code",
   "execution_count": null,
   "metadata": {},
   "outputs": [],
   "source": [
    "for x in range(34):\n",
    "    s=2017+x\n",
    "    for i in range(len(llenado)):\n",
    "        if df['b1'][i]/(1+math.exp(-df['b2'][i]*((s)-df['b3'][i]))) + asignaciones[s][i] < (df['Area maxima adicional'][i]+df['Area 2017'][i]):\n",
    "            llenado1[s][i] = df['b1'][i]/(1+math.exp(-df['b2'][i]*((s)-df['b3'][i]))) + asignaciones[s][i]\n",
    "        else:\n",
    "            llenado1[s][i] = df['Area maxima adicional'][i]+df['Area 2017'][i]"
   ]
  },
  {
   "cell_type": "markdown",
   "metadata": {},
   "source": [
    "Para encontrar la cantidad de m2 que se asignan por año se calcula la primera diferencia del proceso ya que en las anteriores matrices se encuentra el stock de construcción, sí las unidades espaciales han llegado a su máximo normativo el cambio de construcción será igual a 0."
   ]
  },
  {
   "cell_type": "code",
   "execution_count": null,
   "metadata": {},
   "outputs": [],
   "source": [
    "for x in range(34):\n",
    "    s=2017+x\n",
    "    for i in range (len(delta_llenado)): \n",
    "        if s==2017:\n",
    "            delta_llenado1[s][i]=0\n",
    "        else:\n",
    "            delta_llenado1[s][i]= llenado1[s][i]-llenado1[s-1][i]"
   ]
  },
  {
   "cell_type": "markdown",
   "metadata": {},
   "source": [
    "Se procede a calcular los m2 que se proyectan cada año para la región, para ello se suman todas las filas para cada año."
   ]
  },
  {
   "cell_type": "code",
   "execution_count": null,
   "metadata": {},
   "outputs": [],
   "source": [
    "suma1 = delta_llenado1.sum(axis=0)\n",
    "\n",
    "df_cr = []\n",
    "df_cr = pd.DataFrame(data = suma1.values)\n",
    "df_cr_t =df_cr.T\n",
    "df_cr_t.rename(columns={3: 2017, 4: 2018, 5: 2019, 6: 2020, 7: 2021, 8:2022,  9: 2023, 10:2024, 11: 2025,  12:2026,  13:2027,   14:2028,   15:2029, 16:2030,  17:2031,  18:2032,  19:2033,   20:2034,  21:2035,  22:2036,  23:2037,  24:2038,  25:2039,  26:2040,  27:2041,  28:2042,  29:2043,  30:2044,  31:2045,  32:2046,  33:2047, 34:2048,  35:2049, 36:2050}, inplace=True)"
   ]
  },
  {
   "cell_type": "markdown",
   "metadata": {},
   "source": [
    "Por último en este submodelo se calculan los porcentajes de repartición para cada año, de tal manera que la suma de todas las columnas es igual a 1, esta matriz permite identificar cuantos m2 construidos para cada año se le asignan a cada una de las unidades espaciales del modelo, teniendo en cuenta la inercia de construcción existente y las condiciones normativas."
   ]
  },
  {
   "cell_type": "code",
   "execution_count": null,
   "metadata": {},
   "outputs": [],
   "source": [
    "for x in range(34):\n",
    "    s=2017+x\n",
    "    for i in range (len(proporcion_cr)):\n",
    "        if s==2017:\n",
    "            proporcion_cr[s][i]=0\n",
    "        else:\n",
    "         proporcion_cr[s][i] = delta_llenado1[s][i]/df_cr_t[s-1]*10000\n",
    " \n",
    "\n",
    "for x in range(34):\n",
    "    s=2017+x\n",
    "    for i in range (len(proporcion_cr)):\n",
    "        proporcion_cr[s][i]= proporcion_cr[s][i]/100"
   ]
  },
  {
   "cell_type": "markdown",
   "metadata": {},
   "source": [
    "Exportar las salidas del modelo a extensión .xlsx."
   ]
  },
  {
   "cell_type": "code",
   "execution_count": null,
   "metadata": {},
   "outputs": [],
   "source": [
    "llenado.to_excel(r'D:\\documentos llenado\\documentos llenado\\llenado_1.xlsx')\n",
    "llenado1.to_excel(r'D:\\documentos llenado\\documentos llenado\\llenado_2.xlsx')\n",
    "proporcion_cr.to_excel(r'D:\\documentos llenado\\documentos llenado\\proporcion_cr.xlsx')"
   ]
  },
  {
   "cell_type": "markdown",
   "metadata": {},
   "source": [
    "## Submodelo de usos del suelo."
   ]
  },
  {
   "cell_type": "markdown",
   "metadata": {},
   "source": [
    "El primer paso consiste en llamar los archivos de entrada del submodelo de usos."
   ]
  },
  {
   "cell_type": "code",
   "execution_count": null,
   "metadata": {},
   "outputs": [],
   "source": [
    "ipath4 = 'variables_llenado.xlsx'\n",
    "ipath5 = 'coeficientes_llenado.xlsx'\n",
    "ipath6 = 'probabilidades llenado.xlsx'\n",
    "\n",
    "variables = pd.read_excel(ipath4)\n",
    "coeficientes = pd.read_excel(ipath5)\n",
    "probabilidades = pd.read_excel(ipath6)\n",
    "prob_2018 = pd.read_excel(ipath6)\n",
    "prob_2025 = pd.read_excel(ipath6)"
   ]
  },
  {
   "cell_type": "markdown",
   "metadata": {},
   "source": [
    "Es necesario declarar la base de probabilidades como tipo flotante."
   ]
  },
  {
   "cell_type": "code",
   "execution_count": null,
   "metadata": {},
   "outputs": [],
   "source": [
    "probabilidades['p_residencial'] = probabilidades['p_residencial'].astype(float)\n",
    "probabilidades['p_comercial'] = probabilidades['p_comercial'].astype(float)\n",
    "probabilidades['p_industrial'] = probabilidades['p_industrial'].astype(float)\n",
    "probabilidades['p_dotacional'] = probabilidades['p_dotacional'].astype(float)\n",
    "probabilidades['p_agricola'] = probabilidades['p_agricola'].astype(float)"
   ]
  },
  {
   "cell_type": "markdown",
   "metadata": {},
   "source": [
    "Calcular los numeradores de la ecuación asociada al modelo de probabilidad logístico, utilizando tanto los coeficientes previamente estimados como las variables del modelo."
   ]
  },
  {
   "cell_type": "code",
   "execution_count": null,
   "metadata": {},
   "outputs": [],
   "source": [
    "for n in range(len(probabilidades)):\n",
    "    probabilidades['p_residencial'][n] =1\n",
    "    \n",
    "for n in range(len(probabilidades)):\n",
    "    probabilidades['p_comercial'][n] = math.exp(coeficientes['coef51'][n]+coeficientes['coef52'][n]*variables['lacc_0_5'][n]+\n",
    "                  coeficientes['coef53'][n]*variables['ln_dvias'][n])\n",
    "    \n",
    "for n in range(len(probabilidades)):\n",
    "    probabilidades['p_industrial'][n] = math.exp(coeficientes['coef61'][n]+coeficientes['coef62'][n]*variables['lacc_0_5'][n]+\n",
    "                  coeficientes['coef63'][n]*variables['ln_dvias'][n])\n",
    "\n",
    "for n in range(len(probabilidades)):\n",
    "    probabilidades['p_dotacional'][n] = math.exp(coeficientes['coef71'][n]+coeficientes['coef72'][n]*variables['lacc_0_5'][n]+\n",
    "                  coeficientes['coef73'][n]*variables['ln_dvias'][n])\n",
    "\n",
    "for n in range(len(probabilidades)):\n",
    "    probabilidades['p_agricola'][n] = math.exp(coeficientes['coef81'][n]+coeficientes['coef82'][n]*variables['lacc_0_5'][n]+\n",
    "                  coeficientes['coef83'][n]*variables['ln_dvias'][n])"
   ]
  },
  {
   "cell_type": "markdown",
   "metadata": {},
   "source": [
    "Por construcción el denominador de la ecuación logística es igual a la suma de todos los denominadores de las categorías, por ello es necesario realizar dicha suma."
   ]
  },
  {
   "cell_type": "code",
   "execution_count": null,
   "metadata": {},
   "outputs": [],
   "source": [
    "suma3 = probabilidades.sum(axis=1)\n",
    "for n in range(len(suma3)):\n",
    "    suma3[n]=probabilidades['p_residencial'][n]+probabilidades['p_industrial'][n]+probabilidades['p_comercial'][n]+probabilidades['p_dotacional'][n]+probabilidades['p_agricola'][n]"
   ]
  },
  {
   "cell_type": "markdown",
   "metadata": {},
   "source": [
    "Realizar el cociente entre el numerador y el denominador de la ecuación asociada."
   ]
  },
  {
   "cell_type": "code",
   "execution_count": null,
   "metadata": {},
   "outputs": [],
   "source": [
    "for n in range(len(probabilidades)):\n",
    "    probabilidades['p_residencial'][n] = probabilidades['p_residencial'][n]/suma3[n]*100\n",
    "\n",
    "for n in range(len(probabilidades)):\n",
    "    probabilidades['p_comercial'][n] = probabilidades['p_comercial'][n]/suma3[n]*100\n",
    "    \n",
    "    \n",
    "for n in range(len(probabilidades)):\n",
    "    probabilidades['p_industrial'][n] = probabilidades['p_industrial'][n]/suma3[n]*100\n",
    "    \n",
    "    \n",
    "for n in range(len(probabilidades)):\n",
    "    probabilidades['p_dotacional'][n] = probabilidades['p_dotacional'][n]/suma3[n]*100\n",
    "    \n",
    "\n",
    "for n in range(len(probabilidades)):\n",
    "    probabilidades['p_agricola'][n] = probabilidades['p_agricola'][n]/suma3[n]*100\n",
    "\n"
   ]
  },
  {
   "cell_type": "markdown",
   "metadata": {},
   "source": [
    "Con el fin de asegurarnos que el proceso quedo correctamente realizado, realizamos la suma de todas las probabilidades para cada uno de los coeficientes, dicha suma tiene que ser igual a 1."
   ]
  },
  {
   "cell_type": "code",
   "execution_count": null,
   "metadata": {},
   "outputs": [],
   "source": [
    "suma4 = probabilidades.sum(axis=1)\n",
    "for n in range(len(suma4)):\n",
    "    suma4[n]=probabilidades['p_residencial'][n]+probabilidades['p_industrial'][n]+probabilidades['p_comercial'][n]+probabilidades['p_dotacional'][n]+probabilidades['p_agricola'][n]"
   ]
  },
  {
   "cell_type": "markdown",
   "metadata": {},
   "source": [
    "Existen unidades espaciales a las cuales se le calculan probabilidades de usos, pero por restricciones normativas no puede construirse en ellas, por ello se ajusta el valor de la probabilidad de cada categoría a 0."
   ]
  },
  {
   "cell_type": "code",
   "execution_count": null,
   "metadata": {},
   "outputs": [],
   "source": [
    "probabilidades['p_residencial'][3] = 0\n",
    "probabilidades['p_comercial'][3] = 0\n",
    "probabilidades['p_industrial'][3] = 0\n",
    "probabilidades['p_dotacional'][3] = 0\n",
    "probabilidades['p_agricola'][3] = 0\n",
    "probabilidades['p_residencial'][2] = 0\n",
    "probabilidades['p_comercial'][2] = 0\n",
    "probabilidades['p_industrial'][2] = 0\n",
    "probabilidades['p_dotacional'][2] = 0\n",
    "probabilidades['p_agricola'][2] = 0"
   ]
  },
  {
   "cell_type": "markdown",
   "metadata": {},
   "source": [
    "Seleccionar la ubicación de salida y el nombre del archivo con las probabilidades estimadas."
   ]
  },
  {
   "cell_type": "code",
   "execution_count": null,
   "metadata": {},
   "outputs": [],
   "source": [
    "probabilidades.to_excel(r'D:\\documentos llenado\\documentos llenado\\probabilidades_usos.xlsx')"
   ]
  },
  {
   "cell_type": "markdown",
   "metadata": {},
   "source": [
    "## Submodelo de hogares"
   ]
  },
  {
   "cell_type": "markdown",
   "metadata": {},
   "source": [
    "Declarar como un data frame la base del modelo."
   ]
  },
  {
   "cell_type": "code",
   "execution_count": null,
   "metadata": {},
   "outputs": [],
   "source": [
    "ipath_hogares = 'modelo_hogares.xlsx'\n",
    "df_hogares = pd.read_excel(ipath_hogares)"
   ]
  },
  {
   "cell_type": "markdown",
   "metadata": {},
   "source": [
    "Crear la constante del modelo de regresión"
   ]
  },
  {
   "cell_type": "code",
   "execution_count": null,
   "metadata": {},
   "outputs": [],
   "source": [
    "df_hogares['intercept']= 1"
   ]
  },
  {
   "cell_type": "markdown",
   "metadata": {},
   "source": [
    "Generar las matrices con las variables independientes y dependientes de los modelos."
   ]
  },
  {
   "cell_type": "code",
   "execution_count": null,
   "metadata": {},
   "outputs": [],
   "source": [
    "dep_hogares1 = df_hogares['mov_hogares1_upz']\n",
    "dep_hogares2 = df_hogares['mov_hogares2_upz']\n",
    "dep_hogares3 = df_hogares['mov_hogares3_upz']\n",
    "indep_pois = df_hogares[['acc_3_10mil','m2_resid_mill','suelo_exp_mill','p_hog2_upz','p_hog3_upz','intercept']]"
   ]
  },
  {
   "cell_type": "markdown",
   "metadata": {},
   "source": [
    "Estimación y predicción del modelo para la categoría de ingresos n1."
   ]
  },
  {
   "cell_type": "code",
   "execution_count": null,
   "metadata": {},
   "outputs": [],
   "source": [
    "poisson_hogares1_results = sm.GLM(dep_hogares1, indep_pois, family=sm.families.Poisson()).fit()\n",
    "print(poisson_hogares1_results.summary())\n",
    "df_hogares['predict_hogares1'] = poisson_hogares1_results.predict(indep_pois)\n",
    "df_hogares['porc_hogares1']= df_hogares['predict_hogares1']/df_hogares['predict_hogares1'].sum()\n",
    "df_hogares['porc_hogares1'].sum()"
   ]
  },
  {
   "cell_type": "markdown",
   "metadata": {},
   "source": [
    "Estimación y predicción del modelo para la categoría de ingresos n2"
   ]
  },
  {
   "cell_type": "code",
   "execution_count": null,
   "metadata": {},
   "outputs": [],
   "source": [
    "poisson_hogares2_results = sm.GLM(dep_hogares2, indep_pois, family=sm.families.Poisson()).fit()\n",
    "print(poisson_hogares2_results.summary())\n",
    "df_hogares['predict_hogares2'] = poisson_hogares2_results.predict(indep_pois)\n",
    "df_hogares['porc_hogares2']= df_hogares['predict_hogares2']/df_hogares['predict_hogares2'].sum()\n",
    "df_hogares['porc_hogares2'].sum()"
   ]
  },
  {
   "cell_type": "markdown",
   "metadata": {},
   "source": [
    "Estimación y predicción del modelo para la categoría de ingresos n3."
   ]
  },
  {
   "cell_type": "code",
   "execution_count": null,
   "metadata": {},
   "outputs": [],
   "source": [
    "poisson_hogares3_results = sm.GLM(dep_hogares3, indep_pois, family=sm.families.Poisson()).fit()\n",
    "print(poisson_hogares3_results.summary())\n",
    "df_hogares['predict_hogares3'] = poisson_hogares3_results.predict(indep_pois)\n",
    "df_hogares['porc_hogares3']= df_hogares['predict_hogares3']/df_hogares['predict_hogares3'].sum()\n",
    "df_hogares['porc_hogares3'].sum()"
   ]
  },
  {
   "cell_type": "markdown",
   "metadata": {},
   "source": [
    "Generar el data frame con las salidas de los tres modelos."
   ]
  },
  {
   "cell_type": "code",
   "execution_count": null,
   "metadata": {},
   "outputs": [],
   "source": [
    "salidas_hogares = df_hogares[['predict_hogares1','porc_hogares1','predict_hogares2','porc_hogares2','predict_hogares3','porc_hogares3']]"
   ]
  },
  {
   "cell_type": "markdown",
   "metadata": {},
   "source": [
    "Exportar las salidas en formato xlsx."
   ]
  },
  {
   "cell_type": "code",
   "execution_count": null,
   "metadata": {},
   "outputs": [],
   "source": [
    "salidas_hogares.to_excel(r'C:\\Users\\HcK\\Desktop\\PythonMEU\\salidas_hogares.xlsx')"
   ]
  },
  {
   "cell_type": "markdown",
   "metadata": {},
   "source": [
    "## Integración repartidor y usos del suelo"
   ]
  },
  {
   "cell_type": "markdown",
   "metadata": {},
   "source": [
    "La integración únicamente consiste en una función que devuelve para el año que se especifique la repartición de los metros cuadrados tanto para cada unidad espacial como para el tipo de uso. Por cada año se genera una matriz de tamaño 146x5."
   ]
  },
  {
   "cell_type": "code",
   "execution_count": null,
   "metadata": {},
   "outputs": [],
   "source": [
    "def year(z):\n",
    "\n",
    "    prob_z = prob_2018 \n",
    "    \n",
    "    for n in range(len(prob_z)):\n",
    "        prob_z['p_residencial'][n] = probabilidades['p_residencial'][n]*proporcion_cr[z][n]*100\n",
    "\n",
    "    for n in range(len(prob_z)):\n",
    "        prob_z['p_comercial'][n] = probabilidades['p_comercial'][n]*proporcion_cr[z][n]*100\n",
    "    \n",
    "    for n in range(len(prob_2018)):\n",
    "        prob_z['p_industrial'][n] = probabilidades['p_industrial'][n]*proporcion_cr[z][n]*100\n",
    "\n",
    "    for n in range(len(prob_2018)):\n",
    "        prob_z['p_dotacional'][n] = probabilidades['p_dotacional'][n]*proporcion_cr[z][n]*100\n",
    "\n",
    "    for n in range(len(prob_2018)):\n",
    "        prob_z['p_agricola'][n] = probabilidades['p_agricola'][n]*proporcion_cr[z][n]*100\n",
    "    \n",
    "    prob_z['p_comercial'] = prob_z['p_comercial'].astype(float)\n",
    "    prob_z['p_industrial'] = prob_z['p_industrial'].astype(float)\n",
    "    prob_z['p_dotacional'] = prob_z['p_dotacional'].astype(float)\n",
    "    prob_z['p_agricola'] = prob_z['p_agricola'].astype(float)\n",
    "    prob_z['p_residencial'] = prob_z['p_residencial'].astype(float)\n",
    "\n",
    "    for n in range(len(prob_2018)):\n",
    "        prob_z['p_residencial'][n] =prob_z['p_residencial'][n]/10000\n",
    "\n",
    "    for n in range(len(prob_2018)):\n",
    "        prob_z['p_comercial'][n] =prob_z['p_comercial'][n]/10000\n",
    "    \n",
    "    for n in range(len(prob_2018)):\n",
    "        prob_z['p_industrial'][n] =prob_z['p_industrial'][n]/10000\n",
    "    \n",
    "    for n in range(len(prob_2018)):\n",
    "        prob_z['p_dotacional'][n] =prob_z['p_dotacional'][n]/10000\n",
    "\n",
    "    for n in range(len(prob_2018)):\n",
    "        prob_z['p_agricola'][n] =prob_z['p_agricola'][n]/10000\n",
    "  \n",
    "    prob_z.to_excel(r'D:\\documentos llenado\\documentos llenado\\prob_'+str(z)+'.xlsx')    \n",
    "\n",
    "year(2020)"
   ]
  },
  {
   "cell_type": "markdown",
   "metadata": {},
   "source": [
    "## Analisís de sensibilidad."
   ]
  },
  {
   "cell_type": "markdown",
   "metadata": {},
   "source": [
    "A continuación se presenta el análisis de sensibilidad del sub modelo de repartición de construcción regional, el cual consta de 2 partes, la primera en un aumento de la capacidad normativa de las unidades espaciales del simulador, la segunda en cambios en la dinámica de llenado para cada una de las unidades espaciales."
   ]
  },
  {
   "cell_type": "code",
   "execution_count": null,
   "metadata": {},
   "outputs": [],
   "source": [
    "def aumento_area(f):\n",
    "    \n",
    "    disp_rural['prural'] = (disp_rural['prural']*f)\n",
    "    for v in range(len(disp_rural)):\n",
    "        df['Area maxima adicional'][v] = df['Area maxima adicional'][v]+ disp_rural['prural'][v]\n",
    "    df.to_excel(r'C:\\Users\\david\\OneDrive\\Escritorio\\programacion ocupacion y usos con archivos de entrada\\nueva_area_adiciona'+str(f)+'.xlsx')\n",
    "    \n",
    "aumento_area (10000000)"
   ]
  },
  {
   "cell_type": "code",
   "execution_count": null,
   "metadata": {},
   "outputs": [],
   "source": [
    "def sens(p):\n",
    "    \n",
    "    \n",
    "    df['b2'] = (df['b2']*p)\n",
    "    \n",
    "    for x in range(34): \n",
    "        s=2017+x\n",
    "        for i in range(len(llenado)):\n",
    "            if df['b1'][i]/(1+math.exp(-df['b2'][i]*((s)-df['b3'][i]))) < (df['Area maxima adicional'][i]+df['Area 2017'][i]):\n",
    "                llenado[s][i] = df['b1'][i]/(1+math.exp(-df['b2'][i]*((s)-df['b3'][i])))\n",
    "            else:\n",
    "             llenado[s][i] = df['Area maxima adicional'][i]+df['Area 2017'][i]\n",
    "\n",
    "\n",
    "                     \n",
    "    for x in range(34):\n",
    "        s=2017+x\n",
    "        for i in range (len(repartidor)):\n",
    "            if df['Area maxima adicional'][i]+df['Area 2017'][i]-1 < llenado[s][i] <df['Area maxima adicional'][i]+df['Area 2017'][i]+1:\n",
    "                repartidor[s][i] = (df['b1'][i]/(1+math.exp(-df['b2'][i]*((s)-df['b3'][i]))) - df['Area maxima adicional'][i]-df['Area 2017'][i])\n",
    "            else:\n",
    "             repartidor[s][i] = 0\n",
    "\n",
    "\n",
    "    A=np.array(matriz_con_t)\n",
    "    B=np.array(repartidor)\n",
    "    mmult = np.dot(A,B)\n",
    "    asignaciones = pd.DataFrame(mmult)\n",
    "    asignaciones.rename(columns={0: 2017, 1: 2018, 2: 2019, 3: 2020, 4: 2021, 5:2022,  6: 2023, 7:2024, 8: 2025,  9:2026,  10:2027,   11:2028,   12:2029, 13:2030,  14:2031,  15:2032,  16:2033,   17:2034,  18:2035,  19:2036,  20:2037,  21:2038,  22:2039,  23:2040,  24:2041,  25:2042,  26:2043,  27:2044,  28:2045,  29:2046,  30:2047, 31:2048,  32:2049, 33:2050}, inplace=True)\n",
    "\n",
    "\n",
    "    for x in range(34):\n",
    "        s=2017+x\n",
    "        for i in range(len(llenado)):\n",
    "            if df['b1'][i]/(1+math.exp(-df['b2'][i]*((s)-df['b3'][i]))) + asignaciones[s][i] < (df['Area maxima adicional'][i]+df['Area 2017'][i]):\n",
    "                llenado1[s][i] = df['b1'][i]/(1+math.exp(-df['b2'][i]*((s)-df['b3'][i]))) + asignaciones[s][i]\n",
    "            else:\n",
    "             llenado1[s][i] = df['Area maxima adicional'][i]+df['Area 2017'][i]\n",
    "\n",
    "\n",
    "                \n",
    "    for x in range(34):\n",
    "        s=2017+x\n",
    "        for i in range (len(delta_llenado)): \n",
    "            if s==2017:\n",
    "                delta_llenado1[s][i]=0\n",
    "            else:\n",
    "             delta_llenado1[s][i]= llenado1[s][i]-llenado1[s-1][i]\n",
    "\n",
    "    suma1 = delta_llenado1.sum(axis=0)\n",
    "\n",
    "    df_cr = []\n",
    "    df_cr = pd.DataFrame(data = suma1.values)\n",
    "    df_cr_t =df_cr.T\n",
    "    df_cr_t.rename(columns={3: 2017, 4: 2018, 5: 2019, 6: 2020, 7: 2021, 8:2022,  9: 2023, 10:2024, 11: 2025,  12:2026,  13:2027,   14:2028,   15:2029, 16:2030,  17:2031,  18:2032,  19:2033,   20:2034,  21:2035,  22:2036,  23:2037,  24:2038,  25:2039,  26:2040,  27:2041,  28:2042,  29:2043,  30:2044,  31:2045,  32:2046,  33:2047, 34:2048,  35:2049, 36:2050}, inplace=True)\n",
    "\n",
    "\n",
    "    for x in range(34):\n",
    "        s=2017+x\n",
    "        for i in range (len(proporcion_cr)):\n",
    "            if s==2017:\n",
    "                proporcion_cr[s][i]=0\n",
    "            else:\n",
    "             proporcion_cr[s][i] = delta_llenado1[s][i]/df_cr_t[s-1]*10000\n",
    " \n",
    "\n",
    "    for x in range(34):\n",
    "        s=2017+x\n",
    "        for i in range (len(proporcion_cr)):\n",
    "            proporcion_cr[s][i]= proporcion_cr[s][i]/100\n",
    "\n",
    "   \n",
    "    proporcion_cr.to_excel(r'C:\\Users\\david\\OneDrive\\Escritorio\\soportes contrato\\SOPORTES MARZO  DFHL\\SOPORTES MES DE MARZO ANUAR DFHL\\pr_oporcion_cr_'+str(p)+'.xlsx')\n",
    "\n",
    "sens(1.2)"
   ]
  }
 ],
 "metadata": {
  "kernelspec": {
   "display_name": "Python 2",
   "language": "python",
   "name": "python2"
  },
  "language_info": {
   "codemirror_mode": {
    "name": "ipython",
    "version": 2
   },
   "file_extension": ".py",
   "mimetype": "text/x-python",
   "name": "python",
   "nbconvert_exporter": "python",
   "pygments_lexer": "ipython2",
   "version": "2.7.16"
  }
 },
 "nbformat": 4,
 "nbformat_minor": 2
}
